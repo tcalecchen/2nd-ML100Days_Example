{
 "cells": [
  {
   "cell_type": "markdown",
   "metadata": {},
   "source": [
    "## 範例重點\n",
    "* 學習如何在 keras 中加入 model checkpoint\n",
    "* 知道如何設定監控目標\n",
    "* 比較使用最佳與非最佳參數時的 performance"
   ]
  },
  {
   "cell_type": "code",
   "execution_count": 1,
   "metadata": {},
   "outputs": [
    {
     "name": "stderr",
     "output_type": "stream",
     "text": [
      "Using TensorFlow backend.\n"
     ]
    }
   ],
   "source": [
    "import os\n",
    "import keras\n",
    "\n",
    "# 本範例不需使用 GPU, 將 GPU 設定為 \"無\"\n",
    "os.environ[\"CUDA_VISIBLE_DEVICES\"] = \"\""
   ]
  },
  {
   "cell_type": "code",
   "execution_count": 2,
   "metadata": {},
   "outputs": [],
   "source": [
    "train, test = keras.datasets.cifar10.load_data()"
   ]
  },
  {
   "cell_type": "code",
   "execution_count": 3,
   "metadata": {},
   "outputs": [],
   "source": [
    "## 資料前處理\n",
    "def preproc_x(x, flatten=True):\n",
    "    x = x / 255.\n",
    "    if flatten:\n",
    "        x = x.reshape((len(x), -1))\n",
    "    return x\n",
    "\n",
    "def preproc_y(y, num_classes=10):\n",
    "    if y.shape[-1] == 1:\n",
    "        y = keras.utils.to_categorical(y, num_classes)\n",
    "    return y    "
   ]
  },
  {
   "cell_type": "code",
   "execution_count": 4,
   "metadata": {},
   "outputs": [],
   "source": [
    "x_train, y_train = train\n",
    "x_test, y_test = test\n",
    "\n",
    "# 資料前處理 - X 標準化\n",
    "x_train = preproc_x(x_train)\n",
    "x_test = preproc_x(x_test)\n",
    "\n",
    "# 資料前處理 -Y 轉成 onehot\n",
    "y_train = preproc_y(y_train)\n",
    "y_test = preproc_y(y_test)"
   ]
  },
  {
   "cell_type": "code",
   "execution_count": 5,
   "metadata": {},
   "outputs": [],
   "source": [
    "from keras.layers import BatchNormalization\n",
    "\n",
    "\"\"\"\n",
    "建立神經網路，並加入 BN layer\n",
    "\"\"\"\n",
    "def build_mlp(input_shape, output_units=10, num_neurons=[512, 256, 128]):\n",
    "    input_layer = keras.layers.Input(input_shape)\n",
    "    \n",
    "    for i, n_units in enumerate(num_neurons):\n",
    "        if i == 0:\n",
    "            x = keras.layers.Dense(units=n_units, \n",
    "                                   activation=\"relu\", \n",
    "                                   name=\"hidden_layer\"+str(i+1))(input_layer)\n",
    "            x = BatchNormalization()(x)\n",
    "        else:\n",
    "            x = keras.layers.Dense(units=n_units, \n",
    "                                   activation=\"relu\", \n",
    "                                   name=\"hidden_layer\"+str(i+1))(x)\n",
    "            x = BatchNormalization()(x)\n",
    "    \n",
    "    out = keras.layers.Dense(units=output_units, activation=\"softmax\", name=\"output\")(x)\n",
    "    \n",
    "    model = keras.models.Model(inputs=[input_layer], outputs=[out])\n",
    "    return model"
   ]
  },
  {
   "cell_type": "code",
   "execution_count": 6,
   "metadata": {},
   "outputs": [],
   "source": [
    "## 超參數設定\n",
    "LEARNING_RATE = 1e-3\n",
    "EPOCHS = 50\n",
    "BATCH_SIZE = 1024\n",
    "MOMENTUM = 0.95"
   ]
  },
  {
   "cell_type": "code",
   "execution_count": 7,
   "metadata": {},
   "outputs": [],
   "source": [
    "\"\"\"\n",
    "# 載入 Callbacks, 並將監控目標設為 validation loss, 且只存最佳參數時的模型\n",
    "\"\"\"\n",
    "from keras.callbacks import ModelCheckpoint\n",
    "\n",
    "model_ckpt = ModelCheckpoint(filepath=\"./tmp.h5\", \n",
    "                             monitor=\"val_loss\", \n",
    "                             save_best_only=True)"
   ]
  },
  {
   "cell_type": "code",
   "execution_count": 8,
   "metadata": {
    "scrolled": true
   },
   "outputs": [
    {
     "name": "stderr",
     "output_type": "stream",
     "text": [
      "WARNING: Logging before flag parsing goes to stderr.\n",
      "W0724 11:48:41.456864 77432 deprecation_wrapper.py:119] From D:\\Anaconda3\\lib\\site-packages\\keras\\backend\\tensorflow_backend.py:74: The name tf.get_default_graph is deprecated. Please use tf.compat.v1.get_default_graph instead.\n",
      "\n",
      "W0724 11:48:51.037130 77432 deprecation_wrapper.py:119] From D:\\Anaconda3\\lib\\site-packages\\keras\\backend\\tensorflow_backend.py:517: The name tf.placeholder is deprecated. Please use tf.compat.v1.placeholder instead.\n",
      "\n",
      "W0724 11:48:54.140205 77432 deprecation_wrapper.py:119] From D:\\Anaconda3\\lib\\site-packages\\keras\\backend\\tensorflow_backend.py:4138: The name tf.random_uniform is deprecated. Please use tf.random.uniform instead.\n",
      "\n",
      "W0724 11:48:57.722378 77432 deprecation_wrapper.py:119] From D:\\Anaconda3\\lib\\site-packages\\keras\\backend\\tensorflow_backend.py:133: The name tf.placeholder_with_default is deprecated. Please use tf.compat.v1.placeholder_with_default instead.\n",
      "\n",
      "W0724 11:48:58.083312 77432 deprecation_wrapper.py:119] From D:\\Anaconda3\\lib\\site-packages\\keras\\optimizers.py:790: The name tf.train.Optimizer is deprecated. Please use tf.compat.v1.train.Optimizer instead.\n",
      "\n",
      "W0724 11:48:58.093302 77432 deprecation_wrapper.py:119] From D:\\Anaconda3\\lib\\site-packages\\keras\\backend\\tensorflow_backend.py:3295: The name tf.log is deprecated. Please use tf.math.log instead.\n",
      "\n"
     ]
    },
    {
     "name": "stdout",
     "output_type": "stream",
     "text": [
      "_________________________________________________________________\n",
      "Layer (type)                 Output Shape              Param #   \n",
      "=================================================================\n",
      "input_1 (InputLayer)         (None, 3072)              0         \n",
      "_________________________________________________________________\n",
      "hidden_layer1 (Dense)        (None, 512)               1573376   \n",
      "_________________________________________________________________\n",
      "batch_normalization_1 (Batch (None, 512)               2048      \n",
      "_________________________________________________________________\n",
      "hidden_layer2 (Dense)        (None, 256)               131328    \n",
      "_________________________________________________________________\n",
      "batch_normalization_2 (Batch (None, 256)               1024      \n",
      "_________________________________________________________________\n",
      "hidden_layer3 (Dense)        (None, 128)               32896     \n",
      "_________________________________________________________________\n",
      "batch_normalization_3 (Batch (None, 128)               512       \n",
      "_________________________________________________________________\n",
      "output (Dense)               (None, 10)                1290      \n",
      "=================================================================\n",
      "Total params: 1,742,474\n",
      "Trainable params: 1,740,682\n",
      "Non-trainable params: 1,792\n",
      "_________________________________________________________________\n"
     ]
    },
    {
     "name": "stderr",
     "output_type": "stream",
     "text": [
      "W0724 11:48:58.727288 77432 deprecation.py:323] From D:\\Anaconda3\\lib\\site-packages\\tensorflow\\python\\ops\\math_grad.py:1250: add_dispatch_support.<locals>.wrapper (from tensorflow.python.ops.array_ops) is deprecated and will be removed in a future version.\n",
      "Instructions for updating:\n",
      "Use tf.where in 2.0, which has the same broadcast rule as np.where\n"
     ]
    },
    {
     "name": "stdout",
     "output_type": "stream",
     "text": [
      "Train on 50000 samples, validate on 10000 samples\n",
      "Epoch 1/50\n",
      "50000/50000 [==============================] - 33s 669us/step - loss: 2.2353 - acc: 0.2678 - val_loss: 2.1080 - val_acc: 0.3252\n",
      "Epoch 2/50\n",
      "50000/50000 [==============================] - 4s 86us/step - loss: 1.7484 - acc: 0.3935 - val_loss: 1.7712 - val_acc: 0.3886\n",
      "Epoch 3/50\n",
      "50000/50000 [==============================] - 4s 87us/step - loss: 1.6198 - acc: 0.4327 - val_loss: 1.6844 - val_acc: 0.4149\n",
      "Epoch 4/50\n",
      "50000/50000 [==============================] - 5s 92us/step - loss: 1.5469 - acc: 0.4585 - val_loss: 1.6148 - val_acc: 0.4289\n",
      "Epoch 5/50\n",
      "50000/50000 [==============================] - 5s 92us/step - loss: 1.4908 - acc: 0.4806 - val_loss: 1.5832 - val_acc: 0.4436\n",
      "Epoch 6/50\n",
      "50000/50000 [==============================] - 4s 86us/step - loss: 1.4462 - acc: 0.4945 - val_loss: 1.5601 - val_acc: 0.4469\n",
      "Epoch 7/50\n",
      "50000/50000 [==============================] - 4s 84us/step - loss: 1.4080 - acc: 0.5098 - val_loss: 1.5405 - val_acc: 0.4548\n",
      "Epoch 8/50\n",
      "50000/50000 [==============================] - 4s 83us/step - loss: 1.3719 - acc: 0.5209 - val_loss: 1.5168 - val_acc: 0.4654\n",
      "Epoch 9/50\n",
      "50000/50000 [==============================] - 4s 86us/step - loss: 1.3385 - acc: 0.5336 - val_loss: 1.5046 - val_acc: 0.4662\n",
      "Epoch 10/50\n",
      "50000/50000 [==============================] - 4s 86us/step - loss: 1.3084 - acc: 0.5441 - val_loss: 1.4908 - val_acc: 0.4721\n",
      "Epoch 11/50\n",
      "50000/50000 [==============================] - 4s 83us/step - loss: 1.2811 - acc: 0.5549 - val_loss: 1.4992 - val_acc: 0.4696\n",
      "Epoch 12/50\n",
      "50000/50000 [==============================] - 4s 85us/step - loss: 1.2545 - acc: 0.5659 - val_loss: 1.4774 - val_acc: 0.4788\n",
      "Epoch 13/50\n",
      "50000/50000 [==============================] - 4s 84us/step - loss: 1.2291 - acc: 0.5749 - val_loss: 1.4686 - val_acc: 0.4800\n",
      "Epoch 14/50\n",
      "50000/50000 [==============================] - 4s 88us/step - loss: 1.2035 - acc: 0.5830 - val_loss: 1.4583 - val_acc: 0.4862\n",
      "Epoch 15/50\n",
      "50000/50000 [==============================] - 5s 97us/step - loss: 1.1782 - acc: 0.5954 - val_loss: 1.4537 - val_acc: 0.4839\n",
      "Epoch 16/50\n",
      "50000/50000 [==============================] - 4s 86us/step - loss: 1.1554 - acc: 0.6048 - val_loss: 1.4572 - val_acc: 0.4810\n",
      "Epoch 17/50\n",
      "50000/50000 [==============================] - 4s 87us/step - loss: 1.1329 - acc: 0.6104 - val_loss: 1.4478 - val_acc: 0.4898\n",
      "Epoch 18/50\n",
      "50000/50000 [==============================] - 4s 85us/step - loss: 1.1107 - acc: 0.6207 - val_loss: 1.4593 - val_acc: 0.4886\n",
      "Epoch 19/50\n",
      "50000/50000 [==============================] - 4s 88us/step - loss: 1.0890 - acc: 0.6295 - val_loss: 1.4429 - val_acc: 0.4925\n",
      "Epoch 20/50\n",
      "50000/50000 [==============================] - 4s 85us/step - loss: 1.0661 - acc: 0.6372 - val_loss: 1.4430 - val_acc: 0.4906\n",
      "Epoch 21/50\n",
      "50000/50000 [==============================] - 4s 84us/step - loss: 1.0446 - acc: 0.6466 - val_loss: 1.4366 - val_acc: 0.4986\n",
      "Epoch 22/50\n",
      "50000/50000 [==============================] - 4s 85us/step - loss: 1.0237 - acc: 0.6534 - val_loss: 1.4575 - val_acc: 0.4900\n",
      "Epoch 23/50\n",
      "50000/50000 [==============================] - 4s 87us/step - loss: 1.0020 - acc: 0.6615 - val_loss: 1.4412 - val_acc: 0.4914\n",
      "Epoch 24/50\n",
      "50000/50000 [==============================] - 5s 99us/step - loss: 0.9802 - acc: 0.6701 - val_loss: 1.4393 - val_acc: 0.4998\n",
      "Epoch 25/50\n",
      "50000/50000 [==============================] - 5s 94us/step - loss: 0.9612 - acc: 0.6768 - val_loss: 1.4517 - val_acc: 0.4968\n",
      "Epoch 26/50\n",
      "50000/50000 [==============================] - 5s 91us/step - loss: 0.9413 - acc: 0.6857 - val_loss: 1.4652 - val_acc: 0.4975\n",
      "Epoch 27/50\n",
      "50000/50000 [==============================] - 4s 84us/step - loss: 0.9195 - acc: 0.6951 - val_loss: 1.4462 - val_acc: 0.4979\n",
      "Epoch 28/50\n",
      "50000/50000 [==============================] - 4s 83us/step - loss: 0.9009 - acc: 0.7010 - val_loss: 1.4488 - val_acc: 0.4986\n",
      "Epoch 29/50\n",
      "50000/50000 [==============================] - 4s 82us/step - loss: 0.8804 - acc: 0.7081 - val_loss: 1.4645 - val_acc: 0.4938\n",
      "Epoch 30/50\n",
      "50000/50000 [==============================] - 4s 83us/step - loss: 0.8602 - acc: 0.7165 - val_loss: 1.4804 - val_acc: 0.4927\n",
      "Epoch 31/50\n",
      "50000/50000 [==============================] - 4s 81us/step - loss: 0.8423 - acc: 0.7240 - val_loss: 1.4840 - val_acc: 0.4966\n",
      "Epoch 32/50\n",
      "50000/50000 [==============================] - 4s 82us/step - loss: 0.8217 - acc: 0.7335 - val_loss: 1.4818 - val_acc: 0.5019\n",
      "Epoch 33/50\n",
      "50000/50000 [==============================] - 4s 82us/step - loss: 0.8005 - acc: 0.7409 - val_loss: 1.4797 - val_acc: 0.4995\n",
      "Epoch 34/50\n",
      "50000/50000 [==============================] - 4s 83us/step - loss: 0.7832 - acc: 0.7473 - val_loss: 1.4845 - val_acc: 0.5001\n",
      "Epoch 35/50\n",
      "50000/50000 [==============================] - 4s 83us/step - loss: 0.7624 - acc: 0.7562 - val_loss: 1.5079 - val_acc: 0.4984\n",
      "Epoch 36/50\n",
      "50000/50000 [==============================] - 4s 82us/step - loss: 0.7430 - acc: 0.7637 - val_loss: 1.5401 - val_acc: 0.4885\n",
      "Epoch 37/50\n",
      "50000/50000 [==============================] - 4s 82us/step - loss: 0.7250 - acc: 0.7704 - val_loss: 1.5227 - val_acc: 0.4951\n",
      "Epoch 38/50\n",
      "50000/50000 [==============================] - 4s 83us/step - loss: 0.7072 - acc: 0.7786 - val_loss: 1.5288 - val_acc: 0.4944\n",
      "Epoch 39/50\n",
      "50000/50000 [==============================] - 4s 82us/step - loss: 0.6865 - acc: 0.7866 - val_loss: 1.5404 - val_acc: 0.4982\n",
      "Epoch 40/50\n",
      "50000/50000 [==============================] - 4s 83us/step - loss: 0.6682 - acc: 0.7947 - val_loss: 1.5384 - val_acc: 0.4983\n",
      "Epoch 41/50\n",
      "50000/50000 [==============================] - 4s 82us/step - loss: 0.6507 - acc: 0.8001 - val_loss: 1.5517 - val_acc: 0.4972\n",
      "Epoch 42/50\n",
      "50000/50000 [==============================] - 4s 86us/step - loss: 0.6296 - acc: 0.8105 - val_loss: 1.5608 - val_acc: 0.5000\n",
      "Epoch 43/50\n",
      "50000/50000 [==============================] - 5s 91us/step - loss: 0.6141 - acc: 0.8145 - val_loss: 1.5830 - val_acc: 0.4942\n",
      "Epoch 44/50\n",
      "50000/50000 [==============================] - 4s 85us/step - loss: 0.5965 - acc: 0.8223 - val_loss: 1.5692 - val_acc: 0.4943\n",
      "Epoch 45/50\n",
      "50000/50000 [==============================] - 4s 85us/step - loss: 0.5804 - acc: 0.8285 - val_loss: 1.5832 - val_acc: 0.4958\n",
      "Epoch 46/50\n",
      "50000/50000 [==============================] - 4s 84us/step - loss: 0.5600 - acc: 0.8367 - val_loss: 1.5995 - val_acc: 0.4937\n",
      "Epoch 47/50\n",
      "50000/50000 [==============================] - 4s 85us/step - loss: 0.5437 - acc: 0.8426 - val_loss: 1.6084 - val_acc: 0.4947\n",
      "Epoch 48/50\n",
      "50000/50000 [==============================] - 4s 86us/step - loss: 0.5266 - acc: 0.8491 - val_loss: 1.6191 - val_acc: 0.4939\n",
      "Epoch 49/50\n",
      "50000/50000 [==============================] - 4s 85us/step - loss: 0.5101 - acc: 0.8560 - val_loss: 1.6375 - val_acc: 0.4900\n",
      "Epoch 50/50\n",
      "50000/50000 [==============================] - 4s 86us/step - loss: 0.4930 - acc: 0.8639 - val_loss: 1.6546 - val_acc: 0.4903\n",
      "10000/10000 [==============================] - 1s 91us/step\n"
     ]
    }
   ],
   "source": [
    "model = build_mlp(input_shape=x_train.shape[1:])\n",
    "model.summary()\n",
    "optimizer = keras.optimizers.SGD(lr=LEARNING_RATE, nesterov=True, momentum=MOMENTUM)\n",
    "model.compile(loss=\"categorical_crossentropy\", metrics=[\"accuracy\"], optimizer=optimizer)\n",
    "\n",
    "model.fit(x_train, y_train, \n",
    "          epochs=EPOCHS, \n",
    "          batch_size=BATCH_SIZE, \n",
    "          validation_data=(x_test, y_test), \n",
    "          shuffle=True,\n",
    "          callbacks=[model_ckpt]\n",
    "         )\n",
    "\n",
    "# Collect results\n",
    "train_loss = model.history.history[\"loss\"]\n",
    "valid_loss = model.history.history[\"val_loss\"]\n",
    "train_acc = model.history.history[\"acc\"]\n",
    "valid_acc = model.history.history[\"val_acc\"]\n",
    "\n",
    "# Load back\n",
    "model = keras.models.load_model(\"./tmp.h5\")\n",
    "loss_loadback, acc_loadback = model.evaluate(x_test, y_test)"
   ]
  },
  {
   "cell_type": "code",
   "execution_count": 9,
   "metadata": {},
   "outputs": [
    {
     "data": {
      "image/png": "[encoded data removed]",
      "text/plain": [
       "<Figure size 432x288 with 1 Axes>"
      ]
     },
     "metadata": {
      "needs_background": "light"
     },
     "output_type": "display_data"
    },
    {
     "data": {
      "image/png": "[encoded data removed]",
      "text/plain": [
       "<Figure size 432x288 with 1 Axes>"
      ]
     },
     "metadata": {
      "needs_background": "light"
     },
     "output_type": "display_data"
    }
   ],
   "source": [
    "import matplotlib.pyplot as plt\n",
    "%matplotlib inline\n",
    "\n",
    "plt.plot(range(len(train_loss)), train_loss, label=\"train loss\")\n",
    "plt.plot(range(len(valid_loss)), valid_loss, label=\"valid loss\")\n",
    "plt.hlines(y=loss_loadback, xmin=0, xmax=len(train_loss), colors='r', linestyles='--')\n",
    "plt.legend()\n",
    "plt.title(\"Loss\")\n",
    "plt.show()\n",
    "\n",
    "plt.plot(range(len(train_acc)), train_acc, label=\"train accuracy\")\n",
    "plt.plot(range(len(valid_acc)), valid_acc, label=\"valid accuracy\")\n",
    "plt.hlines(y=acc_loadback, xmin=0, xmax=len(train_loss), colors='r', linestyles='--')\n",
    "plt.legend()\n",
    "plt.title(\"Accuracy\")\n",
    "plt.show()"
   ]
  },
  {
   "cell_type": "markdown",
   "metadata": {},
   "source": [
    "## Work\n",
    "1. 試比較 save_best_only 與否的差異\n",
    "2. 請僅存入將 save_weights_only 設定為 True, 並嘗試 reset ipynb 並將模型與權重重新建回並預測 x_test"
   ]
  }
 ],
 "metadata": {
  "kernelspec": {
   "display_name": "Python 3",
   "language": "python",
   "name": "python3"
  },
  "language_info": {
   "codemirror_mode": {
    "name": "ipython",
    "version": 3
   },
   "file_extension": ".py",
   "mimetype": "text/x-python",
   "name": "python",
   "nbconvert_exporter": "python",
   "pygments_lexer": "ipython3",
   "version": "3.7.3"
  }
 },
 "nbformat": 4,
 "nbformat_minor": 2
}
